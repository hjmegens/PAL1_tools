{
 "cells": [
  {
   "cell_type": "markdown",
   "metadata": {},
   "source": [
    "\n",
    "<img src=\"misc_figures/kimventure.jpg\" alt=\"fig1\" style=\"width: 600px;\"/>\n",
    "Collection of source files for the KIM-Venture game, derived from the audio tape.\n",
    "\n",
    "The audio tape was retrieved from [Hans Otten's knowledge base](http://retro.hansotten.nl/6502-sbc/kim-1-manuals-and-software/kim-1-software/kim-venture/):\n",
    "\n",
    "The audio tape was subsequently converted to .wav format:\n",
    "\n",
    "<code>ffmpeg -i kimventure.m4a -ac 2 -f wav kimventure.wav</code>\n",
    "\n",
    "Analysis of the audio content was done using the wav_to_prg.py script as follows:\n",
    "\n",
    "<code>python ../PAL1_tools/wav_to_prg.py -i kimventure.wav -o kimventure.prg  -p --make_plots</code>\n",
    "\n"
   ]
  },
  {
   "cell_type": "code",
   "execution_count": 2,
   "metadata": {},
   "outputs": [
    {
     "name": "stdout",
     "output_type": "stream",
     "text": [
      "kimventure.jpeg\r\n"
     ]
    }
   ],
   "source": [
    "! ls misc_figures/"
   ]
  },
  {
   "cell_type": "code",
   "execution_count": null,
   "metadata": {
    "collapsed": true
   },
   "outputs": [],
   "source": []
  }
 ],
 "metadata": {
  "kernelspec": {
   "display_name": "Python 3",
   "language": "python",
   "name": "python3"
  },
  "language_info": {
   "codemirror_mode": {
    "name": "ipython",
    "version": 3
   },
   "file_extension": ".py",
   "mimetype": "text/x-python",
   "name": "python",
   "nbconvert_exporter": "python",
   "pygments_lexer": "ipython3",
   "version": "3.5.6"
  },
  "latex_envs": {
   "LaTeX_envs_menu_present": true,
   "autocomplete": true,
   "bibliofile": "biblio.bib",
   "cite_by": "apalike",
   "current_citInitial": 1,
   "eqLabelWithNumbers": true,
   "eqNumInitial": 1,
   "hotkeys": {
    "equation": "Ctrl-E",
    "itemize": "Ctrl-I"
   },
   "labels_anchors": false,
   "latex_user_defs": false,
   "report_style_numbering": false,
   "user_envs_cfg": false
  }
 },
 "nbformat": 4,
 "nbformat_minor": 2
}
